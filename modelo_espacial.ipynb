{
 "cells": [
  {
   "cell_type": "code",
   "execution_count": 3,
   "id": "2a2b872e",
   "metadata": {},
   "outputs": [],
   "source": [
    "from shapely.geometry import Point, LineString, Polygon "
   ]
  },
  {
   "cell_type": "code",
   "execution_count": 4,
   "id": "0446f08d",
   "metadata": {},
   "outputs": [],
   "source": [
    "ponto = Point(5, 10)"
   ]
  },
  {
   "cell_type": "code",
   "execution_count": 5,
   "id": "f86057cd",
   "metadata": {},
   "outputs": [
    {
     "data": {
      "image/svg+xml": [
       "<svg xmlns=\"http://www.w3.org/2000/svg\" xmlns:xlink=\"http://www.w3.org/1999/xlink\" width=\"100.0\" height=\"100.0\" viewBox=\"4.0 9.0 2.0 2.0\" preserveAspectRatio=\"xMinYMin meet\"><g transform=\"matrix(1,0,0,-1,0,20.0)\"><circle cx=\"5.0\" cy=\"10.0\" r=\"0.06\" stroke=\"#555555\" stroke-width=\"0.02\" fill=\"#66cc99\" opacity=\"0.6\" /></g></svg>"
      ],
      "text/plain": [
       "<shapely.geometry.point.Point at 0x7fdf6781fee0>"
      ]
     },
     "execution_count": 5,
     "metadata": {},
     "output_type": "execute_result"
    }
   ],
   "source": [
    "ponto"
   ]
  },
  {
   "cell_type": "code",
   "execution_count": 7,
   "id": "5f498491",
   "metadata": {},
   "outputs": [
    {
     "name": "stdout",
     "output_type": "stream",
     "text": [
      "POINT (5 10)\n"
     ]
    }
   ],
   "source": [
    "print(ponto)"
   ]
  },
  {
   "cell_type": "code",
   "execution_count": 9,
   "id": "6e8f8f0c",
   "metadata": {},
   "outputs": [
    {
     "data": {
      "text/plain": [
       "[(5.0, 10.0)]"
      ]
     },
     "execution_count": 9,
     "metadata": {},
     "output_type": "execute_result"
    }
   ],
   "source": [
    "list(ponto.coords)"
   ]
  },
  {
   "cell_type": "code",
   "execution_count": 10,
   "id": "7d818736",
   "metadata": {},
   "outputs": [
    {
     "name": "stdout",
     "output_type": "stream",
     "text": [
      "5.0 10.0\n"
     ]
    }
   ],
   "source": [
    "x = ponto.x\n",
    "y = ponto.y\n",
    "\n",
    "print(x, y)"
   ]
  },
  {
   "cell_type": "code",
   "execution_count": 11,
   "id": "834d8bac",
   "metadata": {},
   "outputs": [
    {
     "name": "stdout",
     "output_type": "stream",
     "text": [
      "distancia entre os pontos 5.0\n"
     ]
    }
   ],
   "source": [
    "ponto_1 = Point(2,3)\n",
    "ponto_2 = Point(5,7)\n",
    "\n",
    "distancia = ponto_1.distance(ponto_2)\n",
    "\n",
    "print(\"distancia entre os pontos\", distancia)"
   ]
  },
  {
   "cell_type": "code",
   "execution_count": 14,
   "id": "e95e6298",
   "metadata": {},
   "outputs": [],
   "source": [
    "ponto_1 = Point(2,3)\n",
    "ponto_2 = Point(5,7)\n",
    "ponto_3 = Point(2,10)\n",
    "\n",
    "linha = LineString([ponto_1, ponto_2, ponto_3]) "
   ]
  },
  {
   "cell_type": "code",
   "execution_count": 15,
   "id": "3e7179d4",
   "metadata": {},
   "outputs": [
    {
     "data": {
      "image/svg+xml": [
       "<svg xmlns=\"http://www.w3.org/2000/svg\" xmlns:xlink=\"http://www.w3.org/1999/xlink\" width=\"100.0\" height=\"100.0\" viewBox=\"1.72 2.7199999999999998 3.5600000000000005 7.56\" preserveAspectRatio=\"xMinYMin meet\"><g transform=\"matrix(1,0,0,-1,0,13.0)\"><polyline fill=\"none\" stroke=\"#66cc99\" stroke-width=\"0.1512\" points=\"2.0,3.0 5.0,7.0 2.0,10.0\" opacity=\"0.8\" /></g></svg>"
      ],
      "text/plain": [
       "<shapely.geometry.linestring.LineString at 0x7fdf673c9130>"
      ]
     },
     "execution_count": 15,
     "metadata": {},
     "output_type": "execute_result"
    }
   ],
   "source": [
    "linha"
   ]
  },
  {
   "cell_type": "code",
   "execution_count": 16,
   "id": "03b43776",
   "metadata": {},
   "outputs": [
    {
     "name": "stdout",
     "output_type": "stream",
     "text": [
      "LINESTRING (2 3, 5 7, 2 10)\n"
     ]
    }
   ],
   "source": [
    "print(linha)"
   ]
  },
  {
   "cell_type": "code",
   "execution_count": 18,
   "id": "af16cb5f",
   "metadata": {},
   "outputs": [
    {
     "data": {
      "text/plain": [
       "[(2.0, 3.0), (5.0, 7.0), (2.0, 10.0)]"
      ]
     },
     "execution_count": 18,
     "metadata": {},
     "output_type": "execute_result"
    }
   ],
   "source": [
    "list(linha.coords)"
   ]
  },
  {
   "cell_type": "code",
   "execution_count": 23,
   "id": "898f2a6a",
   "metadata": {},
   "outputs": [],
   "source": [
    "coordenadas_x = list(linha.xy[0])\n",
    "coordenadas_y = list(linha.xy[1])"
   ]
  },
  {
   "cell_type": "code",
   "execution_count": 25,
   "id": "ad91a84d",
   "metadata": {},
   "outputs": [
    {
     "name": "stdout",
     "output_type": "stream",
     "text": [
      "coodernadas x [2.0, 5.0, 2.0]\n",
      "coodernadas y [3.0, 7.0, 10.0]\n"
     ]
    }
   ],
   "source": [
    "print(\"coodernadas x\", coordenadas_x)\n",
    "print(\"coodernadas y\", coordenadas_y)"
   ]
  },
  {
   "cell_type": "code",
   "execution_count": 26,
   "id": "c48f7ff4",
   "metadata": {},
   "outputs": [
    {
     "data": {
      "text/plain": [
       "9.242640687119284"
      ]
     },
     "execution_count": 26,
     "metadata": {},
     "output_type": "execute_result"
    }
   ],
   "source": [
    "linha.length"
   ]
  },
  {
   "cell_type": "code",
   "execution_count": 28,
   "id": "30913675",
   "metadata": {},
   "outputs": [
    {
     "name": "stdout",
     "output_type": "stream",
     "text": [
      "POINT (3.5 6.606601717798214)\n"
     ]
    }
   ],
   "source": [
    "print(linha.centroid)\n"
   ]
  },
  {
   "cell_type": "code",
   "execution_count": null,
   "id": "71a578e3",
   "metadata": {},
   "outputs": [],
   "source": []
  }
 ],
 "metadata": {
  "kernelspec": {
   "display_name": "Python 3 (ipykernel)",
   "language": "python",
   "name": "python3"
  },
  "language_info": {
   "codemirror_mode": {
    "name": "ipython",
    "version": 3
   },
   "file_extension": ".py",
   "mimetype": "text/x-python",
   "name": "python",
   "nbconvert_exporter": "python",
   "pygments_lexer": "ipython3",
   "version": "3.9.6"
  }
 },
 "nbformat": 4,
 "nbformat_minor": 5
}
